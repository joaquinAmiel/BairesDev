{
  "nbformat": 4,
  "nbformat_minor": 0,
  "metadata": {
    "colab": {
      "name": "Data_science_assignment_Multiplica.ipynb",
      "provenance": [],
      "collapsed_sections": [],
      "authorship_tag": "ABX9TyMAZ3qzOGcGOV9UYrHU2IeE",
      "include_colab_link": true
    },
    "kernelspec": {
      "name": "python3",
      "display_name": "Python 3"
    }
  },
  "cells": [
    {
      "cell_type": "markdown",
      "metadata": {
        "id": "view-in-github",
        "colab_type": "text"
      },
      "source": [
        "<a href=\"https://colab.research.google.com/github/joaquinAmiel/BairesDev/blob/master/Data_science_assignment_Multiplica.ipynb\" target=\"_parent\"><img src=\"https://colab.research.google.com/assets/colab-badge.svg\" alt=\"Open In Colab\"/></a>"
      ]
    },
    {
      "cell_type": "markdown",
      "metadata": {
        "id": "44pgXvISE_vg"
      },
      "source": [
        "# Data science Assignment\n",
        "\n",
        "## Introducción al problema\n",
        "La misión principal de la prueba es analizar los datos de la base de datos e identificar el cluster de usuarios a los cuales targetear en una campaña de marketing.\n",
        "\n",
        "El entregable de la prueba consistirá en un reporte con la siguiente estructura:\n",
        "- Planteamiento inicial de cómo abordar la misión\n",
        "- Qué modelo analítico has decidido usar para la tarea y explicación breve del mismo\n",
        "- Por qué has utilizado dicho modelo\n",
        "- Conclusiones finales y recomendaciones\n",
        "\n",
        "## Índice\n",
        "- Resumen Ejecutivo.\n",
        "- Analisis exploratorio y depuración de la base.\n",
        "- Modelado de datos.\n",
        "- Descripción de clusters. \n",
        "- Asignación de clusters a la base inicial.\n",
        "\n",
        "## Resumen Ejecutivo\n",
        "\n",
        "En la base proporcionada, no existe ninguna etiqueta que permita hacer un modelo basado en datos históricos (a partir de otras campaña, o una similar o igual), es decir que no hay conocimiento a priori. Adicionalmente, todas las variables son numéricas, por lo tanto, para modelar los datos se implementó un algoritmo de aprendizaje no supervisado basado en clusterización, donde el objetivo es encontrar diferentes grupos dentro de los individuos, de manera que los individuos que pertenecen al mismo clúster (o grupo) sean más similares entre sí que con los de clústeres diferentes. \n",
        "\n",
        "Para el modelado de datos, se utilizará el algoritmo k-means ya que es el más utilizado dentro de los algoritmos no supervisados y ademas porque las variables consideradas son todas numéricas, lo cual hace este algoritmo se ajuste perfectamente a nuestra necesidad. El algoritmo tiene la siguiente lógica:\n",
        "\n",
        "1. Seleccionar el parámetro *k* que refiere al número de grupos a utilizar (utilizando el método del codo) e iniciar aleatoriamente el proceso seleccionando al azar k puntos dentro del espacio, estos seran los centros de cada grupo.\n",
        "2. Clasificar cada punto calculando la distancia entre ese punto y el centro de cada grupo, y luego clasificandolo para que esté en el grupo cuyo centro está más cercano a él. \n",
        "3. Sobre la base de estos puntos clasificados, recalcular el centro del grupo tomando la media de todos los vectores del grupo.\n",
        "4. Repetir estos pasos hasta que el algoritmo cumpla un criterio de parada que puede ser, cumplir un número determinado de iteraciones o hasta que los centros del grupo no cambien mucho entre cada iteración.\n",
        "\n",
        "A partir del algoritmo de aprendizaje no supervisado se logro identificar los siguientes segmentos de usuarios:\n",
        "- **Los pesimistas**: Estos usuarios son bastante más nuevos que promedio, en lo que refiere a antiguedad, son los que en promedio menos amigos tienen y ademas son los que menos reviews dan. Sin embargo se caracterizan por hacerlo negativamente. Ellos representan casi el 20% de la base. No se recomienda su inclusión en campañas ya si el contacto no es exitoso, hay probabilidades de que suponga un costo colateral muy alto derivado de un mal review.\n",
        "\n",
        "- **Los optimistas**: Estos usuarios en promedio son los mas nuevos. Si bien tampoco dan una alta cantidad de reviews (el doble que el primer grupo), a la inversa de los pesimistas, se caracterizan por hacerlo positivamente. Representan el 43% del total y a priori pareceria ser un segmento interesante de individuos a realizar una campaña porque probablemente reaccionen positivamente.\n",
        "\n",
        "- **Los amigables**: Este segmento es muy chico, ya que solamente incluye el 1.3% de las personas, pero es un segmento muy particular, estos se destacan por su gran cantidad de amigos, lo cual hace que sus comentarios sean muy valiosos, porque probablemente lleguen a más personas y por ende se puede potenciar la marca o ir en su defecto, arruinarla. Por lo cual si se los incluye en una campaña, debería asegurarse la calidad de la misma.\n",
        "\n",
        "- **Los reviewers**: Estos individuos se caracterizan por tener una alta cantidad de reviews por mes y por una alta cantidad de votos, representan el 3% de la base. Si bien son pocos, ellos probablemente darán un review del producto, por lo cual si se los incluye en un campaña, deberia asegurarse la calidad de la misma para mejorar la imagen de marca (mediante su review), no obstante, no es tan prioritario como el grupo de **\"Los amigables\"**.\n",
        "\n",
        "- **Los desinteresados**: Estos individuos hace tiempo estan activos, pero sin embargo, su actividad es baja, aunque mayor que la de los individuos más nuevos(segmentos pesimistas y optimistas). Su puntaje promedio es similar al promedio. A estos individuos se le podria realizar una campaña, pero tal vez no de alta inversión.\n",
        "\n",
        "Finalmente, a partir del análisis se logró identificar distintos segmentos de usuarios describiendolos y realizando recomendaciones acerca de su tratamiento, adicionalmente a partir del análisis exploratorio se concluye que: \n",
        "- un 5% vota siempre 1 estrella (puede haber tenido una sola votación), por otro lado, un 20% vota 5 estrellas. Los usuarios tienden a votar positivamente (encima de 3 estrellas).\n",
        "- Casi un 70% usuarios de esta plataforma tienen 1 amigo o ninguno.\n",
        "- Los usuarios con más reviews son también los que más votan.\n",
        "- A medida que aumenta la cantidad de meses de actividad, aumenta el promedio de actividad de los usuarios.\n",
        "\n",
        "Si te interesó el Resumen ejecutivo, a continuación se muestra el análisis completo, además ante cualquier duda puedes escribir a joaquinamiel@gmail.com"
      ]
    },
    {
      "cell_type": "markdown",
      "metadata": {
        "id": "PeH_hDr89Cx6"
      },
      "source": [
        "## Analisis exploratorio de los datos y depuración de la base\n",
        "En esta fase el objetivo es analizar la base brindada con el fin de lograr un mejor entendimiento del problema, evaluar como abordarlo, determinar si hay que hacer alguna depuración en los datos y extraer algunos insights."
      ]
    },
    {
      "cell_type": "code",
      "metadata": {
        "colab": {
          "base_uri": "https://localhost:8080/"
        },
        "id": "ydxRO9N5EjKO",
        "outputId": "cb015598-dba2-4d26-a796-5f5c5d473014"
      },
      "source": [
        "#import libraries \n",
        "import warnings\n",
        "warnings.filterwarnings(\"ignore\")\n",
        "\n",
        "!pip install kneed\n",
        "from kneed import KneeLocator\n",
        "\n",
        "import pandas as pd\n",
        "import numpy as np\n",
        "import seaborn as sns\n",
        "from matplotlib.colors import ListedColormap\n",
        "import matplotlib.pyplot as plt\n",
        "from sklearn.ensemble import IsolationForest\n",
        "from sklearn.cluster import KMeans\n",
        "from sklearn.preprocessing import StandardScaler\n",
        "\n",
        "from google.colab import drive\n",
        "# mount google drive information in a google colaboratory directory\n",
        "drive.mount('/content/gdrive')"
      ],
      "execution_count": null,
      "outputs": [
        {
          "output_type": "stream",
          "text": [
            "Requirement already satisfied: kneed in /usr/local/lib/python3.6/dist-packages (0.7.0)\n",
            "Requirement already satisfied: matplotlib in /usr/local/lib/python3.6/dist-packages (from kneed) (3.2.2)\n",
            "Requirement already satisfied: scipy in /usr/local/lib/python3.6/dist-packages (from kneed) (1.4.1)\n",
            "Requirement already satisfied: numpy>=1.14.2 in /usr/local/lib/python3.6/dist-packages (from kneed) (1.18.5)\n",
            "Requirement already satisfied: pyparsing!=2.0.4,!=2.1.2,!=2.1.6,>=2.0.1 in /usr/local/lib/python3.6/dist-packages (from matplotlib->kneed) (2.4.7)\n",
            "Requirement already satisfied: python-dateutil>=2.1 in /usr/local/lib/python3.6/dist-packages (from matplotlib->kneed) (2.8.1)\n",
            "Requirement already satisfied: cycler>=0.10 in /usr/local/lib/python3.6/dist-packages (from matplotlib->kneed) (0.10.0)\n",
            "Requirement already satisfied: kiwisolver>=1.0.1 in /usr/local/lib/python3.6/dist-packages (from matplotlib->kneed) (1.3.1)\n",
            "Requirement already satisfied: six>=1.5 in /usr/local/lib/python3.6/dist-packages (from python-dateutil>=2.1->matplotlib->kneed) (1.15.0)\n",
            "Drive already mounted at /content/gdrive; to attempt to forcibly remount, call drive.mount(\"/content/gdrive\", force_remount=True).\n"
          ],
          "name": "stdout"
        }
      ]
    },
    {
      "cell_type": "code",
      "metadata": {
        "id": "AXqx4369Jirx"
      },
      "source": [
        "#leer Bases de Datos\n",
        "path = r'gdrive/My Drive/Thinko/' # path\n",
        "#path = 'Data/' # path\n",
        "df = pd.read_csv(path+'Yelp.csv') #,sep=';'"
      ],
      "execution_count": null,
      "outputs": []
    },
    {
      "cell_type": "code",
      "metadata": {
        "id": "a-zzQl6IZcPc"
      },
      "source": [
        "#Se eliminar de la base ID duplicados, ya que no son confiables\n",
        "df.drop_duplicates(inplace=True,subset='ID')"
      ],
      "execution_count": null,
      "outputs": []
    },
    {
      "cell_type": "markdown",
      "metadata": {
        "id": "XkGxpvISjLwh"
      },
      "source": [
        "\n",
        "Como podemos observar en el encabezado de los datos, no hay ninguna etiqueta que nos permita hacer un modelo basado en datos históricos. Es decir, una forma de implementar una estrategia de campañas de marketing es con datos históricos de usuarios a los cuales se les haya hecho otra campaña, o una similar o igual en distinto modelo. Por ejemplo, si fuera una campaña realizada con el objetivo de ofrecer un préstamo al consumo, se podria tener datos históricos de usuarios que ya hayan participado en campañas de prestamos, con estos se podria hacer un modelo para evaluar si los nuevos clientes a los que se les va a ofrecer tienen una alta o baja probabilidad de aceptar un préstamo y así mejorar la rentabilidad de la campaña.\n",
        "\n",
        "Adicionalmente, todas las variables son numéricas, dado esto y lo enunciado anteriormente (que no hay un conocimiento a priori), lo que si se puede hacer es implementar un algoritmo de aprendizaje no supervisado de clusterización. En términos básicos, el objetivo de la agrupación es encontrar diferentes grupos dentro de los individuos. Para ello, los algoritmos de agrupamiento encuentran la estructura en los datos de manera que los individuos que pertenecen del mismo clúster (o grupo) sean más similares entre sí que con los de clústeres diferentes. Esto nos permite describirlos de manera conjunta (una descripción por cluster).\n"
      ]
    },
    {
      "cell_type": "code",
      "metadata": {
        "colab": {
          "base_uri": "https://localhost:8080/",
          "height": 235
        },
        "id": "x3HzJhi8P5DU",
        "outputId": "f14c7f76-760b-48e5-efd0-092336a52813"
      },
      "source": [
        "df.set_index('ID',inplace=True)\n",
        "df.head()"
      ],
      "execution_count": null,
      "outputs": [
        {
          "output_type": "execute_result",
          "data": {
            "text/html": [
              "<div>\n",
              "<style scoped>\n",
              "    .dataframe tbody tr th:only-of-type {\n",
              "        vertical-align: middle;\n",
              "    }\n",
              "\n",
              "    .dataframe tbody tr th {\n",
              "        vertical-align: top;\n",
              "    }\n",
              "\n",
              "    .dataframe thead th {\n",
              "        text-align: right;\n",
              "    }\n",
              "</style>\n",
              "<table border=\"1\" class=\"dataframe\">\n",
              "  <thead>\n",
              "    <tr style=\"text-align: right;\">\n",
              "      <th></th>\n",
              "      <th>Months Active</th>\n",
              "      <th>Reviews</th>\n",
              "      <th>Average Review</th>\n",
              "      <th>Votes</th>\n",
              "      <th>Friends</th>\n",
              "    </tr>\n",
              "    <tr>\n",
              "      <th>ID</th>\n",
              "      <th></th>\n",
              "      <th></th>\n",
              "      <th></th>\n",
              "      <th></th>\n",
              "      <th></th>\n",
              "    </tr>\n",
              "  </thead>\n",
              "  <tbody>\n",
              "    <tr>\n",
              "      <th>HzLh-2WyMjf6TYATFwg6NA</th>\n",
              "      <td>36</td>\n",
              "      <td>5</td>\n",
              "      <td>3.60</td>\n",
              "      <td>2</td>\n",
              "      <td>0</td>\n",
              "    </tr>\n",
              "    <tr>\n",
              "      <th>gYV6bmTSgbZMGkvXHVCowg</th>\n",
              "      <td>38</td>\n",
              "      <td>5</td>\n",
              "      <td>2.20</td>\n",
              "      <td>86</td>\n",
              "      <td>0</td>\n",
              "    </tr>\n",
              "    <tr>\n",
              "      <th>4duCDxDMiRJJbc2CmnziAg</th>\n",
              "      <td>46</td>\n",
              "      <td>7</td>\n",
              "      <td>3.57</td>\n",
              "      <td>2</td>\n",
              "      <td>0</td>\n",
              "    </tr>\n",
              "    <tr>\n",
              "      <th>2EeuYhLuzvvrJ9v2pVrTjQ</th>\n",
              "      <td>30</td>\n",
              "      <td>4</td>\n",
              "      <td>3.00</td>\n",
              "      <td>1</td>\n",
              "      <td>0</td>\n",
              "    </tr>\n",
              "    <tr>\n",
              "      <th>5AwX3A1D-PJkkrWuRpmpCA</th>\n",
              "      <td>49</td>\n",
              "      <td>19</td>\n",
              "      <td>4.30</td>\n",
              "      <td>36</td>\n",
              "      <td>2</td>\n",
              "    </tr>\n",
              "  </tbody>\n",
              "</table>\n",
              "</div>"
            ],
            "text/plain": [
              "                         Months Active   Reviews  ...   Votes   Friends \n",
              "ID                                                ...                   \n",
              "HzLh-2WyMjf6TYATFwg6NA              36         5  ...       2          0\n",
              "gYV6bmTSgbZMGkvXHVCowg              38         5  ...      86          0\n",
              "4duCDxDMiRJJbc2CmnziAg              46         7  ...       2          0\n",
              "2EeuYhLuzvvrJ9v2pVrTjQ              30         4  ...       1          0\n",
              "5AwX3A1D-PJkkrWuRpmpCA              49        19  ...      36          2\n",
              "\n",
              "[5 rows x 5 columns]"
            ]
          },
          "metadata": {
            "tags": []
          },
          "execution_count": 4
        }
      ]
    },
    {
      "cell_type": "code",
      "metadata": {
        "colab": {
          "base_uri": "https://localhost:8080/"
        },
        "id": "ZitynRo9mC43",
        "outputId": "0f5afd08-18f5-4222-ea9d-4c7a55534d62"
      },
      "source": [
        "#como vemos las columnas tienen nombres no amigables para el análisis\n",
        "df.columns"
      ],
      "execution_count": null,
      "outputs": [
        {
          "output_type": "execute_result",
          "data": {
            "text/plain": [
              "Index([' Months Active', ' Reviews', ' Average Review', ' Votes', ' Friends '], dtype='object')"
            ]
          },
          "metadata": {
            "tags": []
          },
          "execution_count": 5
        }
      ]
    },
    {
      "cell_type": "code",
      "metadata": {
        "id": "oLryS_kqlc7j"
      },
      "source": [
        "df.rename(columns={' Months Active':'months_active',\n",
        "                   ' Reviews':'reviews',\n",
        "                   ' Average Review':'average_review',\n",
        "                   ' Votes':'votes',\n",
        "                   ' Friends ':'friends'}, inplace=True)"
      ],
      "execution_count": null,
      "outputs": []
    },
    {
      "cell_type": "markdown",
      "metadata": {
        "id": "aHNK9dKAbLW1"
      },
      "source": [
        "A partir de la siguiente tabla descriptiva se pueden extraer las conclusiones que se detallan en los siguientes enunciados\n",
        "\n",
        "- No hay datos nulos, si asi fuera los conteos de elementos no nulos (count) en las distintas variables sería distinto.\n",
        "- Si bien las variables Meses Activo y Review promedio parecen tener una \"relativa simetria\", las variables son extremadamente asimétricas, donde se evidencia la presencia de datos atípicos, lo cual necesitan tratamiento, ya que al estar utilizando algoritmos que se basan en distancias, estos pueden alterar de forma drástica los resultados. \n",
        "- Se pueden crear las variables \"Reviews por mes\" y \"Votos por mes\" de esta manera se independizaran las variables Reviews y Votes del tiempo en el cual un individuo pertenezca activo."
      ]
    },
    {
      "cell_type": "code",
      "metadata": {
        "colab": {
          "base_uri": "https://localhost:8080/",
          "height": 297
        },
        "id": "09yTqOoBQ34E",
        "outputId": "79b9fd1c-bb64-47f5-ef28-fdae3c89081b"
      },
      "source": [
        "descriptive_table = df.describe(include='all').round(decimals=3)\n",
        "description_numeric=descriptive_table.loc[['count','mean','std','min','25%','50%','75%','max']]   \n",
        "description_numeric.dropna(axis=1, thresh=None, inplace=True)\n",
        "description_numeric"
      ],
      "execution_count": null,
      "outputs": [
        {
          "output_type": "execute_result",
          "data": {
            "text/html": [
              "<div>\n",
              "<style scoped>\n",
              "    .dataframe tbody tr th:only-of-type {\n",
              "        vertical-align: middle;\n",
              "    }\n",
              "\n",
              "    .dataframe tbody tr th {\n",
              "        vertical-align: top;\n",
              "    }\n",
              "\n",
              "    .dataframe thead th {\n",
              "        text-align: right;\n",
              "    }\n",
              "</style>\n",
              "<table border=\"1\" class=\"dataframe\">\n",
              "  <thead>\n",
              "    <tr style=\"text-align: right;\">\n",
              "      <th></th>\n",
              "      <th>months_active</th>\n",
              "      <th>reviews</th>\n",
              "      <th>average_review</th>\n",
              "      <th>votes</th>\n",
              "      <th>friends</th>\n",
              "    </tr>\n",
              "  </thead>\n",
              "  <tbody>\n",
              "    <tr>\n",
              "      <th>count</th>\n",
              "      <td>9888.000</td>\n",
              "      <td>9888.000</td>\n",
              "      <td>9888.000</td>\n",
              "      <td>9888.000</td>\n",
              "      <td>9888.000</td>\n",
              "    </tr>\n",
              "    <tr>\n",
              "      <th>mean</th>\n",
              "      <td>40.569</td>\n",
              "      <td>33.779</td>\n",
              "      <td>3.744</td>\n",
              "      <td>152.833</td>\n",
              "      <td>4.277</td>\n",
              "    </tr>\n",
              "    <tr>\n",
              "      <th>std</th>\n",
              "      <td>20.379</td>\n",
              "      <td>112.485</td>\n",
              "      <td>1.028</td>\n",
              "      <td>1471.384</td>\n",
              "      <td>22.838</td>\n",
              "    </tr>\n",
              "    <tr>\n",
              "      <th>min</th>\n",
              "      <td>7.000</td>\n",
              "      <td>1.000</td>\n",
              "      <td>1.000</td>\n",
              "      <td>0.000</td>\n",
              "      <td>0.000</td>\n",
              "    </tr>\n",
              "    <tr>\n",
              "      <th>25%</th>\n",
              "      <td>25.000</td>\n",
              "      <td>2.000</td>\n",
              "      <td>3.290</td>\n",
              "      <td>2.000</td>\n",
              "      <td>0.000</td>\n",
              "    </tr>\n",
              "    <tr>\n",
              "      <th>50%</th>\n",
              "      <td>39.000</td>\n",
              "      <td>6.000</td>\n",
              "      <td>3.900</td>\n",
              "      <td>7.000</td>\n",
              "      <td>0.000</td>\n",
              "    </tr>\n",
              "    <tr>\n",
              "      <th>75%</th>\n",
              "      <td>53.000</td>\n",
              "      <td>18.000</td>\n",
              "      <td>4.500</td>\n",
              "      <td>30.000</td>\n",
              "      <td>2.000</td>\n",
              "    </tr>\n",
              "    <tr>\n",
              "      <th>max</th>\n",
              "      <td>118.000</td>\n",
              "      <td>3166.000</td>\n",
              "      <td>5.000</td>\n",
              "      <td>67094.000</td>\n",
              "      <td>1066.000</td>\n",
              "    </tr>\n",
              "  </tbody>\n",
              "</table>\n",
              "</div>"
            ],
            "text/plain": [
              "       months_active   reviews  average_review      votes   friends\n",
              "count       9888.000  9888.000        9888.000   9888.000  9888.000\n",
              "mean          40.569    33.779           3.744    152.833     4.277\n",
              "std           20.379   112.485           1.028   1471.384    22.838\n",
              "min            7.000     1.000           1.000      0.000     0.000\n",
              "25%           25.000     2.000           3.290      2.000     0.000\n",
              "50%           39.000     6.000           3.900      7.000     0.000\n",
              "75%           53.000    18.000           4.500     30.000     2.000\n",
              "max          118.000  3166.000           5.000  67094.000  1066.000"
            ]
          },
          "metadata": {
            "tags": []
          },
          "execution_count": 7
        }
      ]
    },
    {
      "cell_type": "code",
      "metadata": {
        "id": "O8JMI8w8RC9I"
      },
      "source": [
        "df['review_per_month'] = round(df.reviews/df.months_active,3)\n",
        "df['votes_per_month'] = round(df.votes/df.months_active,3)"
      ],
      "execution_count": null,
      "outputs": []
    },
    {
      "cell_type": "markdown",
      "metadata": {
        "id": "ZrED7NfBnlww"
      },
      "source": [
        "### Detección de outliers\n",
        "Se utilizará el algoritmo de isolation forrest para la detección de outliers de manera multidimensional. Se trabajará bajo el supuesto que el 1% de los datos son outliers. Una cantidad mayor supone un problema, ya que no serían outliers, si no que serian parte del total de la data.\n",
        "Esto no es un problema, ya que el objetivo del análisis es enviar datos a campañas de marketing, seria distinto si el objetivo fuera detectar por ejemplo, fraude."
      ]
    },
    {
      "cell_type": "code",
      "metadata": {
        "id": "4pjJtRovnUVf"
      },
      "source": [
        "n_estimators = 5000\n",
        "anomalies_ratio=0.01\n",
        "random_state = 42\n",
        "\n",
        "clf = IsolationForest(n_estimators = n_estimators, contamination = anomalies_ratio, random_state = random_state)\n",
        "clf.fit(df[['average_review', 'friends','review_per_month', 'votes_per_month']])\n",
        "df['outlier']=clf.predict(df[['average_review', 'friends','review_per_month', 'votes_per_month']])"
      ],
      "execution_count": null,
      "outputs": []
    },
    {
      "cell_type": "code",
      "metadata": {
        "colab": {
          "base_uri": "https://localhost:8080/"
        },
        "id": "Pj1w5m1mADAh",
        "outputId": "1f633fab-de9a-4c60-b2c4-463028ebbf93"
      },
      "source": [
        "pd.value_counts(df.outlier)"
      ],
      "execution_count": null,
      "outputs": [
        {
          "output_type": "execute_result",
          "data": {
            "text/plain": [
              " 1    9789\n",
              "-1      99\n",
              "Name: outlier, dtype: int64"
            ]
          },
          "metadata": {
            "tags": []
          },
          "execution_count": 10
        }
      ]
    },
    {
      "cell_type": "code",
      "metadata": {
        "id": "O2V9qP5tE7vY"
      },
      "source": [
        "df=df[df.outlier==1]\n",
        "df.drop(columns=['outlier'],inplace=True)"
      ],
      "execution_count": null,
      "outputs": []
    },
    {
      "cell_type": "markdown",
      "metadata": {
        "id": "QIB8somrOqo9"
      },
      "source": [
        "Sin los outliers detectados en el algoritmo de isolation forrest los datos se regularizan bastante, no obstante para aplicar los modelos de aprendizaje no supervisado hace falta estandarizar las variables:\n",
        "- la variable reviews pasa de un desvio estandar de 112 a 72.\n",
        "- la variable votes pasa de un desvio estandar de 1471 a 268.\n",
        "- la variable votes pasa de un desvio estandar de 22 a 9."
      ]
    },
    {
      "cell_type": "code",
      "metadata": {
        "colab": {
          "base_uri": "https://localhost:8080/",
          "height": 297
        },
        "id": "Tp1E9xwgAw_W",
        "outputId": "11595300-7582-4095-adf0-69eca2fa28db"
      },
      "source": [
        "df.describe()"
      ],
      "execution_count": null,
      "outputs": [
        {
          "output_type": "execute_result",
          "data": {
            "text/html": [
              "<div>\n",
              "<style scoped>\n",
              "    .dataframe tbody tr th:only-of-type {\n",
              "        vertical-align: middle;\n",
              "    }\n",
              "\n",
              "    .dataframe tbody tr th {\n",
              "        vertical-align: top;\n",
              "    }\n",
              "\n",
              "    .dataframe thead th {\n",
              "        text-align: right;\n",
              "    }\n",
              "</style>\n",
              "<table border=\"1\" class=\"dataframe\">\n",
              "  <thead>\n",
              "    <tr style=\"text-align: right;\">\n",
              "      <th></th>\n",
              "      <th>months_active</th>\n",
              "      <th>reviews</th>\n",
              "      <th>average_review</th>\n",
              "      <th>votes</th>\n",
              "      <th>friends</th>\n",
              "      <th>review_per_month</th>\n",
              "      <th>votes_per_month</th>\n",
              "    </tr>\n",
              "  </thead>\n",
              "  <tbody>\n",
              "    <tr>\n",
              "      <th>count</th>\n",
              "      <td>9789.000000</td>\n",
              "      <td>9789.000000</td>\n",
              "      <td>9789.000000</td>\n",
              "      <td>9789.000000</td>\n",
              "      <td>9789.000000</td>\n",
              "      <td>9789.000000</td>\n",
              "      <td>9789.000000</td>\n",
              "    </tr>\n",
              "    <tr>\n",
              "      <th>mean</th>\n",
              "      <td>40.287363</td>\n",
              "      <td>26.939728</td>\n",
              "      <td>3.743980</td>\n",
              "      <td>66.913883</td>\n",
              "      <td>2.954234</td>\n",
              "      <td>0.545038</td>\n",
              "      <td>1.172412</td>\n",
              "    </tr>\n",
              "    <tr>\n",
              "      <th>std</th>\n",
              "      <td>20.182744</td>\n",
              "      <td>72.053297</td>\n",
              "      <td>1.032713</td>\n",
              "      <td>268.540590</td>\n",
              "      <td>9.177625</td>\n",
              "      <td>1.187845</td>\n",
              "      <td>3.886438</td>\n",
              "    </tr>\n",
              "    <tr>\n",
              "      <th>min</th>\n",
              "      <td>7.000000</td>\n",
              "      <td>1.000000</td>\n",
              "      <td>1.000000</td>\n",
              "      <td>0.000000</td>\n",
              "      <td>0.000000</td>\n",
              "      <td>0.011000</td>\n",
              "      <td>0.000000</td>\n",
              "    </tr>\n",
              "    <tr>\n",
              "      <th>25%</th>\n",
              "      <td>24.000000</td>\n",
              "      <td>2.000000</td>\n",
              "      <td>3.290000</td>\n",
              "      <td>2.000000</td>\n",
              "      <td>0.000000</td>\n",
              "      <td>0.077000</td>\n",
              "      <td>0.056000</td>\n",
              "    </tr>\n",
              "    <tr>\n",
              "      <th>50%</th>\n",
              "      <td>38.000000</td>\n",
              "      <td>5.000000</td>\n",
              "      <td>3.900000</td>\n",
              "      <td>7.000000</td>\n",
              "      <td>0.000000</td>\n",
              "      <td>0.167000</td>\n",
              "      <td>0.209000</td>\n",
              "    </tr>\n",
              "    <tr>\n",
              "      <th>75%</th>\n",
              "      <td>53.000000</td>\n",
              "      <td>17.000000</td>\n",
              "      <td>4.500000</td>\n",
              "      <td>28.000000</td>\n",
              "      <td>2.000000</td>\n",
              "      <td>0.430000</td>\n",
              "      <td>0.673000</td>\n",
              "    </tr>\n",
              "    <tr>\n",
              "      <th>max</th>\n",
              "      <td>118.000000</td>\n",
              "      <td>1352.000000</td>\n",
              "      <td>5.000000</td>\n",
              "      <td>7892.000000</td>\n",
              "      <td>187.000000</td>\n",
              "      <td>15.745000</td>\n",
              "      <td>85.783000</td>\n",
              "    </tr>\n",
              "  </tbody>\n",
              "</table>\n",
              "</div>"
            ],
            "text/plain": [
              "       months_active      reviews  ...  review_per_month  votes_per_month\n",
              "count    9789.000000  9789.000000  ...       9789.000000      9789.000000\n",
              "mean       40.287363    26.939728  ...          0.545038         1.172412\n",
              "std        20.182744    72.053297  ...          1.187845         3.886438\n",
              "min         7.000000     1.000000  ...          0.011000         0.000000\n",
              "25%        24.000000     2.000000  ...          0.077000         0.056000\n",
              "50%        38.000000     5.000000  ...          0.167000         0.209000\n",
              "75%        53.000000    17.000000  ...          0.430000         0.673000\n",
              "max       118.000000  1352.000000  ...         15.745000        85.783000\n",
              "\n",
              "[8 rows x 7 columns]"
            ]
          },
          "metadata": {
            "tags": []
          },
          "execution_count": 12
        }
      ]
    },
    {
      "cell_type": "markdown",
      "metadata": {
        "id": "l5b9yl7oSPIP"
      },
      "source": [
        "En el histograma de review promedio nos muestra que aproximadamente un 5% vota siempre 1 estrella (puede haber tenido una sola votación), por otro lado, aproximadamente un 20% vota 5 estrellas. Finalmente, los usuarios tienden a votar positivamente (ver la gráfica a la derecha de 3)."
      ]
    },
    {
      "cell_type": "code",
      "metadata": {
        "colab": {
          "base_uri": "https://localhost:8080/",
          "height": 336
        },
        "id": "PDzdI9OjDL15",
        "outputId": "5648a929-8304-4610-dba8-f96d97fd6d12"
      },
      "source": [
        "fig, ax = plt.subplots(figsize=(10, 5))\n",
        "n, bins, patches = ax.hist(df.average_review, bins=20,density=False) \n",
        "ax.set_xlim(1,5)\n",
        "ax.set_title('Review promedio');"
      ],
      "execution_count": null,
      "outputs": [
        {
          "output_type": "display_data",
          "data": {
            "image/png": "[encoded data removed]",
            "text/plain": [
              "<Figure size 720x360 with 1 Axes>"
            ]
          },
          "metadata": {
            "tags": [],
            "needs_background": "light"
          }
        }
      ]
    },
    {
      "cell_type": "markdown",
      "metadata": {
        "id": "7xeQH6Z2U7Ks"
      },
      "source": [
        "Casi un 70% usuarios de esta plataforma tienen 1 amigo o ninguno."
      ]
    },
    {
      "cell_type": "code",
      "metadata": {
        "colab": {
          "base_uri": "https://localhost:8080/",
          "height": 336
        },
        "id": "494JlGo6FiH7",
        "outputId": "7215a56c-038f-48f5-c079-540e91390528"
      },
      "source": [
        "fig, ax = plt.subplots(figsize=(10, 5))\n",
        "n, bins, patches = ax.hist(df.friends, bins=100,density=False)\n",
        "ax.set_xlim(0,50)\n",
        "ax.set_title('Distribución del total de amigos por persona');"
      ],
      "execution_count": null,
      "outputs": [
        {
          "output_type": "display_data",
          "data": {
            "image/png": "[encoded data removed]",
            "text/plain": [
              "<Figure size 720x360 with 1 Axes>"
            ]
          },
          "metadata": {
            "tags": [],
            "needs_background": "light"
          }
        }
      ]
    },
    {
      "cell_type": "markdown",
      "metadata": {
        "id": "TgaKeKhtVthm"
      },
      "source": [
        "Como vemos en el gráfico tanto la cantidad de reviews, como la cantidad de votos caen de forma exponencial."
      ]
    },
    {
      "cell_type": "code",
      "metadata": {
        "colab": {
          "base_uri": "https://localhost:8080/",
          "height": 336
        },
        "id": "_YrGLToDF6mJ",
        "outputId": "608a0193-a3e9-4b38-d73a-c6bb9953e1ee"
      },
      "source": [
        "fig, ax = plt.subplots(figsize=(10, 5))\n",
        "n, bins, patches = ax.hist(df.review_per_month, bins=100,density=False)\n",
        "ax.set_xlim(0,3)\n",
        "ax.set_title('Distribución del promedio de reviews por mes por persona');"
      ],
      "execution_count": null,
      "outputs": [
        {
          "output_type": "display_data",
          "data": {
            "image/png": "[encoded data removed]",
            "text/plain": [
              "<Figure size 720x360 with 1 Axes>"
            ]
          },
          "metadata": {
            "tags": [],
            "needs_background": "light"
          }
        }
      ]
    },
    {
      "cell_type": "code",
      "metadata": {
        "colab": {
          "base_uri": "https://localhost:8080/",
          "height": 336
        },
        "id": "Y83EgjpWGn-Y",
        "outputId": "5bf1bbc7-494a-4de3-8bdc-e3a59a7af9e9"
      },
      "source": [
        "fig, ax = plt.subplots(figsize=(10, 5))\n",
        "n, bins, patches = ax.hist(df.votes_per_month, bins=300,density=False)\n",
        "ax.set_xlim(0,5)\n",
        "ax.set_title('Distribución del promedio de votos por mes por persona');"
      ],
      "execution_count": null,
      "outputs": [
        {
          "output_type": "display_data",
          "data": {
            "image/png": "[encoded data removed]",
            "text/plain": [
              "<Figure size 720x360 with 1 Axes>"
            ]
          },
          "metadata": {
            "tags": [],
            "needs_background": "light"
          }
        }
      ]
    },
    {
      "cell_type": "markdown",
      "metadata": {
        "id": "22TDo4_WNDKa"
      },
      "source": [
        "### Análisis de correlación\n",
        "\n",
        "Como vemos en el siguiente gráfico, existe una correlación casi perfecta entre votos por mes y votos y entre review por mes y reviews, por esta razón se opta por eliminar las variables votes y reviews ya que como se comentó anteriormente estan influenciadas por el tiempo de vida del usuario.\n",
        "\n",
        "Adicionalmente, hay una correlación alta entre reviews por mes y votos por mes, lo cual nos indica que los usuarios que hacen mas reviews por mes también son los que más votan.\n",
        "\n",
        "Finalmente hay una baja correlación positiva entre la cantidad de tiempo activo y la cantidad de reviews promedio mensual. Lo cual podemos concluir que a medida que aumenta el tiempo los usuarios se vuelven mas activos (análoga conclusión se puede extraer del número de votos)\n"
      ]
    },
    {
      "cell_type": "code",
      "metadata": {
        "colab": {
          "base_uri": "https://localhost:8080/",
          "height": 642
        },
        "id": "ZfWUQ245Gt3R",
        "outputId": "f34df084-bfed-4913-e25d-d29e0efae037"
      },
      "source": [
        "sns.set(style=\"white\")\n",
        "fig, ax = plt.subplots(1, figsize=(10, 10))\n",
        "corr = df.corr()\n",
        "labels = corr.where(np.triu(np.ones(corr.shape)).astype(np.bool))\n",
        "labels = labels.round(2)\n",
        "labels = labels.replace(np.nan, ' ', regex=True)\n",
        "\n",
        "mask = np.triu(np.ones(corr.shape)).astype(np.bool)\n",
        "ax = sns.heatmap(\n",
        "    corr,\n",
        "    mask=mask,\n",
        "    vmin=-1,\n",
        "    vmax=1,\n",
        "    center=0,\n",
        "    cmap='RdYlGn',\n",
        "    fmt='',\n",
        "    square=True,\n",
        "    linewidths=1.5).set_title(\"Gráfico de correlación\", fontsize=22)\n",
        "mask = np.ones(corr.shape) - mask\n",
        "ax = sns.heatmap(\n",
        "    corr,\n",
        "    mask=mask,\n",
        "    vmin=-1,\n",
        "    vmax=1,\n",
        "    center=0,\n",
        "    cmap=ListedColormap(['white']),\n",
        "    annot=labels,\n",
        "    cbar=False,\n",
        "    fmt='',\n",
        "    linewidths=1.5)"
      ],
      "execution_count": null,
      "outputs": [
        {
          "output_type": "display_data",
          "data": {
            "image/png": "[encoded data removed]",
            "text/plain": [
              "<Figure size 720x720 with 2 Axes>"
            ]
          },
          "metadata": {
            "tags": []
          }
        }
      ]
    },
    {
      "cell_type": "code",
      "metadata": {
        "id": "rV2-5y90Mxri"
      },
      "source": [
        "df.drop(columns=['votes','reviews'],inplace=True)"
      ],
      "execution_count": null,
      "outputs": []
    },
    {
      "cell_type": "markdown",
      "metadata": {
        "id": "FhcuA8YPYNnr"
      },
      "source": [
        "## Modelado de datos\n",
        "En análisis no supervisados no se debe dividir la muestra en test y train (ya que no hay etiquetas), pero si es necesario alguna forma de estandarización, en este caso se utilizará una estandarización normal (restar media y dividir sobre el desvio)."
      ]
    },
    {
      "cell_type": "code",
      "metadata": {
        "id": "W37xHLVnZW51"
      },
      "source": [
        "scaler = StandardScaler()\n",
        "X=scaler.fit_transform(df)"
      ],
      "execution_count": null,
      "outputs": []
    },
    {
      "cell_type": "markdown",
      "metadata": {
        "id": "2WL5OvdBYMyl"
      },
      "source": [
        "Para el modelado de datos, se utilizará el algoritmo k-means ya que es el más utilizado dentro de los algoritmos no supervisados y ademas porque las variables consideradas son todas numéricas, lo cual hace este algoritmo se ajuste perfectamente a nuestra necesidad. También se podriá utilizar otros como por ejemplo el DBSCAN que también sirve para este tipo de escenarios, aunque si se quiera explicar, no es tan sencillo.\n",
        "\n",
        "Lo primero que hay que determinar es el número de grupos a utilizar, para eso se utiliza la medida de inercia que mide la suma de los errores al cuadrado, los errores son los derivados de considerar un cluster y no un elemento particular. Si bien es un elemento que mide la calidad de la segmentación, al aumentar el número de clusters la inercia tiende a descender.\n",
        "\n",
        "El \"método del codo\" es un gráfico que mide el descenso de la inercia con respecto al número de cluster, por lo cual el valor final a utilizar es un compromiso entre el error y el total de clusters. Observando el gráfico el número de clusters a utilizar es 5.\n"
      ]
    },
    {
      "cell_type": "code",
      "metadata": {
        "colab": {
          "base_uri": "https://localhost:8080/",
          "height": 355
        },
        "id": "gZZErOLCXGBm",
        "outputId": "c74899a9-fe27-4aa7-c3b5-336c7e610f8d"
      },
      "source": [
        "distortions = []\n",
        "K = range(1,15)\n",
        "for k in K:\n",
        "    kmeanModel = KMeans(n_clusters=k,random_state=70)\n",
        "    kmeanModel.fit(X)\n",
        "    distortions.append(kmeanModel.inertia_)\n",
        "    \n",
        "plt.figure(figsize=(8,5))\n",
        "plt.plot(K, distortions, 'bx-')\n",
        "plt.xlabel('k')\n",
        "plt.ylabel('Distortion')\n",
        "plt.title('Método del codo (k óptimo)')\n",
        "plt.show()"
      ],
      "execution_count": null,
      "outputs": [
        {
          "output_type": "display_data",
          "data": {
            "image/png": "[encoded data removed]",
            "text/plain": [
              "<Figure size 576x360 with 1 Axes>"
            ]
          },
          "metadata": {
            "tags": []
          }
        }
      ]
    },
    {
      "cell_type": "code",
      "metadata": {
        "colab": {
          "base_uri": "https://localhost:8080/"
        },
        "id": "M8bYD_BPaq3e",
        "outputId": "8201085c-4510-4585-e87b-85842aa3d5ae"
      },
      "source": [
        "kmeans = KMeans(n_clusters=5,random_state=20,n_init=10,max_iter=300)\n",
        "kmeans.fit(X)        "
      ],
      "execution_count": null,
      "outputs": [
        {
          "output_type": "execute_result",
          "data": {
            "text/plain": [
              "KMeans(algorithm='auto', copy_x=True, init='k-means++', max_iter=300,\n",
              "       n_clusters=5, n_init=10, n_jobs=None, precompute_distances='auto',\n",
              "       random_state=20, tol=0.0001, verbose=0)"
            ]
          },
          "metadata": {
            "tags": []
          },
          "execution_count": 42
        }
      ]
    },
    {
      "cell_type": "code",
      "metadata": {
        "colab": {
          "base_uri": "https://localhost:8080/"
        },
        "id": "pxacF_tcck8p",
        "outputId": "6d2684d9-190c-4552-e9c4-1868cafd9395"
      },
      "source": [
        "kmeans.inertia_"
      ],
      "execution_count": null,
      "outputs": [
        {
          "output_type": "execute_result",
          "data": {
            "text/plain": [
              "18975.8422932686"
            ]
          },
          "metadata": {
            "tags": []
          },
          "execution_count": 43
        }
      ]
    },
    {
      "cell_type": "code",
      "metadata": {
        "id": "jD1O1AX4c0_O"
      },
      "source": [
        "df['kmeans']=kmeans.labels_.tolist()"
      ],
      "execution_count": null,
      "outputs": []
    },
    {
      "cell_type": "markdown",
      "metadata": {
        "id": "-GYab3YhwV5X"
      },
      "source": [
        "## Descripción de clusters\n",
        "\n",
        "La siguiente tabla nos muestra los promedios de cada una de las variables por cada etiqueta, de esta manera podemos describir cada uno de los segmentos:\n",
        "\n",
        "- **Los pesimistas (Segmento 0)**: Estos usuarios son bastante más nuevos que promedio, en lo que refiere a antiguedad, son los que en promedio menos amigos tienen y ademas son los que menos reviews dan. Sin embargo se caracterizan por hacerlo negativamente. Ellos representan casi el 20% de la base. No se recomienda su inclusión en campañas ya si el contacto no es exitoso, hay probabilidades de que suponga un costo colateral muy alto derivado de un mal review.\n",
        "\n",
        "- **Los optimistas (Segmento 1)**: Estos usuarios en promedio son los mas nuevos. Si bien tampoco dan una alta cantidad de reviews (el doble que el primer grupo), a la inversa de los pesimistas, se caracterizan por hacerlo positivamente. Representan el 43% del total y a priori pareceria ser un segmento interesante de individuos a realizar una campaña porque probablemente reaccionen positivamente.\n",
        "\n",
        "- **Los amigables (Segmento 2)**: Este segmento es muy chico, ya que solamente incluye el 1.3% de las personas, pero es un segmento muy particular, estos se destacan por su gran cantidad de amigos, lo cual hace que sus comentarios sean muy valiosos, porque probablemente lleguen a más personas y por ende se puede potenciar la marca o ir en su defecto, arruinarla. Por lo cual si se los incluye en una campaña, debería asegurarse la calidad de la misma.\n",
        "\n",
        "- **Los reviewers (Segmento 3)**: Estos individuos se caracterizan por tener una alta cantidad de reviews por mes y por una alta cantidad de votos, representan el 3% de la base. Si bien son pocos, ellos probablemente darán un review del producto, por lo cual si se los incluye en un campaña, deberia asegurarse la calidad de la misma para mejorar la imagen de marca (mediante su review), no obstante, no es tan prioritario como el grupo de **\"Los amigables\"**.\n",
        "\n",
        "- **Los desinteresados (Segmento 4)**: Estos individuos hace tiempo estan activos, pero sin embargo, su actividad es baja, aunque mayor que la de los individuos más nuevos(segmentos pesimistas y optimistas). Su puntaje promedio es similar al promedio. A estos individuos se le podria realizar una campaña, pero tal vez no de alta inversión."
      ]
    },
    {
      "cell_type": "code",
      "metadata": {
        "colab": {
          "base_uri": "https://localhost:8080/",
          "height": 235
        },
        "id": "E7u-HLCCc4_l",
        "outputId": "c23e5c50-5883-4421-eb5e-3738d2b5604e"
      },
      "source": [
        "tabla=df.groupby([\"kmeans\"]).mean()\n",
        "tabla['Porcentaje']=100*pd.value_counts(df.kmeans).sort_index()/df.shape[0]\n",
        "tabla['Total']=pd.value_counts(df.kmeans).sort_index()\n",
        "round(tabla,2)"
      ],
      "execution_count": null,
      "outputs": [
        {
          "output_type": "execute_result",
          "data": {
            "text/html": [
              "<div>\n",
              "<style scoped>\n",
              "    .dataframe tbody tr th:only-of-type {\n",
              "        vertical-align: middle;\n",
              "    }\n",
              "\n",
              "    .dataframe tbody tr th {\n",
              "        vertical-align: top;\n",
              "    }\n",
              "\n",
              "    .dataframe thead th {\n",
              "        text-align: right;\n",
              "    }\n",
              "</style>\n",
              "<table border=\"1\" class=\"dataframe\">\n",
              "  <thead>\n",
              "    <tr style=\"text-align: right;\">\n",
              "      <th></th>\n",
              "      <th>months_active</th>\n",
              "      <th>average_review</th>\n",
              "      <th>friends</th>\n",
              "      <th>review_per_month</th>\n",
              "      <th>votes_per_month</th>\n",
              "      <th>Porcentaje</th>\n",
              "      <th>Total</th>\n",
              "    </tr>\n",
              "    <tr>\n",
              "      <th>kmeans</th>\n",
              "      <th></th>\n",
              "      <th></th>\n",
              "      <th></th>\n",
              "      <th></th>\n",
              "      <th></th>\n",
              "      <th></th>\n",
              "      <th></th>\n",
              "    </tr>\n",
              "  </thead>\n",
              "  <tbody>\n",
              "    <tr>\n",
              "      <th>0</th>\n",
              "      <td>29.66</td>\n",
              "      <td>2.14</td>\n",
              "      <td>0.67</td>\n",
              "      <td>0.18</td>\n",
              "      <td>0.27</td>\n",
              "      <td>19.76</td>\n",
              "      <td>1934</td>\n",
              "    </tr>\n",
              "    <tr>\n",
              "      <th>1</th>\n",
              "      <td>28.08</td>\n",
              "      <td>4.39</td>\n",
              "      <td>1.44</td>\n",
              "      <td>0.30</td>\n",
              "      <td>0.34</td>\n",
              "      <td>43.66</td>\n",
              "      <td>4274</td>\n",
              "    </tr>\n",
              "    <tr>\n",
              "      <th>2</th>\n",
              "      <td>51.89</td>\n",
              "      <td>3.99</td>\n",
              "      <td>62.68</td>\n",
              "      <td>1.19</td>\n",
              "      <td>4.56</td>\n",
              "      <td>1.34</td>\n",
              "      <td>131</td>\n",
              "    </tr>\n",
              "    <tr>\n",
              "      <th>3</th>\n",
              "      <td>60.13</td>\n",
              "      <td>3.72</td>\n",
              "      <td>11.77</td>\n",
              "      <td>5.79</td>\n",
              "      <td>17.22</td>\n",
              "      <td>3.06</td>\n",
              "      <td>300</td>\n",
              "    </tr>\n",
              "    <tr>\n",
              "      <th>4</th>\n",
              "      <td>61.01</td>\n",
              "      <td>3.84</td>\n",
              "      <td>3.08</td>\n",
              "      <td>0.58</td>\n",
              "      <td>1.19</td>\n",
              "      <td>32.18</td>\n",
              "      <td>3150</td>\n",
              "    </tr>\n",
              "  </tbody>\n",
              "</table>\n",
              "</div>"
            ],
            "text/plain": [
              "        months_active  average_review  ...  Porcentaje  Total\n",
              "kmeans                                 ...                   \n",
              "0               29.66            2.14  ...       19.76   1934\n",
              "1               28.08            4.39  ...       43.66   4274\n",
              "2               51.89            3.99  ...        1.34    131\n",
              "3               60.13            3.72  ...        3.06    300\n",
              "4               61.01            3.84  ...       32.18   3150\n",
              "\n",
              "[5 rows x 7 columns]"
            ]
          },
          "metadata": {
            "tags": []
          },
          "execution_count": 45
        }
      ]
    },
    {
      "cell_type": "code",
      "metadata": {
        "colab": {
          "base_uri": "https://localhost:8080/"
        },
        "id": "frvH-YAZfScD",
        "outputId": "53106d89-275f-48ce-cf15-89f482574107"
      },
      "source": [
        "df.mean()"
      ],
      "execution_count": null,
      "outputs": [
        {
          "output_type": "execute_result",
          "data": {
            "text/plain": [
              "months_active       40.287363\n",
              "average_review       3.743980\n",
              "friends              2.954234\n",
              "review_per_month     0.545038\n",
              "votes_per_month      1.172412\n",
              "kmeans               1.842476\n",
              "dtype: float64"
            ]
          },
          "metadata": {
            "tags": []
          },
          "execution_count": 52
        }
      ]
    },
    {
      "cell_type": "markdown",
      "metadata": {
        "id": "oR_dm1BK7af6"
      },
      "source": [
        "## Asignación de clusters a la base\n",
        "En esta sección se asignan los clusters a los individuos de la base, quedando de la siguiente manera:\n"
      ]
    },
    {
      "cell_type": "code",
      "metadata": {
        "colab": {
          "base_uri": "https://localhost:8080/",
          "height": 235
        },
        "id": "uPpqvZ0t7XM0",
        "outputId": "92ac2475-e236-4adb-dfe9-7f10e9cda30c"
      },
      "source": [
        "asignacion={0:'Los pesimistas', 1:'Los optimistas', 2:'Los amigables', 3:'Los reviewers', 4:'Los desinteresados'}\n",
        "df['Cluster']= df.kmeans.map(asignacion)\n",
        "df.drop(columns=['kmeans'],inplace=True)\n",
        "df.head()"
      ],
      "execution_count": null,
      "outputs": [
        {
          "output_type": "execute_result",
          "data": {
            "text/html": [
              "<div>\n",
              "<style scoped>\n",
              "    .dataframe tbody tr th:only-of-type {\n",
              "        vertical-align: middle;\n",
              "    }\n",
              "\n",
              "    .dataframe tbody tr th {\n",
              "        vertical-align: top;\n",
              "    }\n",
              "\n",
              "    .dataframe thead th {\n",
              "        text-align: right;\n",
              "    }\n",
              "</style>\n",
              "<table border=\"1\" class=\"dataframe\">\n",
              "  <thead>\n",
              "    <tr style=\"text-align: right;\">\n",
              "      <th></th>\n",
              "      <th>months_active</th>\n",
              "      <th>average_review</th>\n",
              "      <th>friends</th>\n",
              "      <th>review_per_month</th>\n",
              "      <th>votes_per_month</th>\n",
              "      <th>Cluster</th>\n",
              "    </tr>\n",
              "    <tr>\n",
              "      <th>ID</th>\n",
              "      <th></th>\n",
              "      <th></th>\n",
              "      <th></th>\n",
              "      <th></th>\n",
              "      <th></th>\n",
              "      <th></th>\n",
              "    </tr>\n",
              "  </thead>\n",
              "  <tbody>\n",
              "    <tr>\n",
              "      <th>HzLh-2WyMjf6TYATFwg6NA</th>\n",
              "      <td>36</td>\n",
              "      <td>3.60</td>\n",
              "      <td>0</td>\n",
              "      <td>0.139</td>\n",
              "      <td>0.056</td>\n",
              "      <td>Los optimistas</td>\n",
              "    </tr>\n",
              "    <tr>\n",
              "      <th>gYV6bmTSgbZMGkvXHVCowg</th>\n",
              "      <td>38</td>\n",
              "      <td>2.20</td>\n",
              "      <td>0</td>\n",
              "      <td>0.132</td>\n",
              "      <td>2.263</td>\n",
              "      <td>Los pesimistas</td>\n",
              "    </tr>\n",
              "    <tr>\n",
              "      <th>4duCDxDMiRJJbc2CmnziAg</th>\n",
              "      <td>46</td>\n",
              "      <td>3.57</td>\n",
              "      <td>0</td>\n",
              "      <td>0.152</td>\n",
              "      <td>0.043</td>\n",
              "      <td>Los desinteresados</td>\n",
              "    </tr>\n",
              "    <tr>\n",
              "      <th>2EeuYhLuzvvrJ9v2pVrTjQ</th>\n",
              "      <td>30</td>\n",
              "      <td>3.00</td>\n",
              "      <td>0</td>\n",
              "      <td>0.133</td>\n",
              "      <td>0.033</td>\n",
              "      <td>Los pesimistas</td>\n",
              "    </tr>\n",
              "    <tr>\n",
              "      <th>5AwX3A1D-PJkkrWuRpmpCA</th>\n",
              "      <td>49</td>\n",
              "      <td>4.30</td>\n",
              "      <td>2</td>\n",
              "      <td>0.388</td>\n",
              "      <td>0.735</td>\n",
              "      <td>Los desinteresados</td>\n",
              "    </tr>\n",
              "  </tbody>\n",
              "</table>\n",
              "</div>"
            ],
            "text/plain": [
              "                        months_active  ...             Cluster\n",
              "ID                                     ...                    \n",
              "HzLh-2WyMjf6TYATFwg6NA             36  ...      Los optimistas\n",
              "gYV6bmTSgbZMGkvXHVCowg             38  ...      Los pesimistas\n",
              "4duCDxDMiRJJbc2CmnziAg             46  ...  Los desinteresados\n",
              "2EeuYhLuzvvrJ9v2pVrTjQ             30  ...      Los pesimistas\n",
              "5AwX3A1D-PJkkrWuRpmpCA             49  ...  Los desinteresados\n",
              "\n",
              "[5 rows x 6 columns]"
            ]
          },
          "metadata": {
            "tags": []
          },
          "execution_count": 57
        }
      ]
    },
    {
      "cell_type": "code",
      "metadata": {
        "id": "nGKOuGjm7YTX"
      },
      "source": [
        ""
      ],
      "execution_count": null,
      "outputs": []
    },
    {
      "cell_type": "code",
      "metadata": {
        "id": "nsC2s-Xd8Gsp"
      },
      "source": [
        ""
      ],
      "execution_count": null,
      "outputs": []
    }
  ]
}